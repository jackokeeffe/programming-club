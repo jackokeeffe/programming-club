{
 "cells": [
  {
   "cell_type": "code",
   "execution_count": 1,
   "id": "orange-median",
   "metadata": {},
   "outputs": [
    {
     "data": {
      "text/plain": [
       "'ll'"
      ]
     },
     "execution_count": 1,
     "metadata": {},
     "output_type": "execute_result"
    }
   ],
   "source": [
    "# Parsing String\n",
    "string = \"Hello World!\"\n",
    "string[2:4]"
   ]
  },
  {
   "cell_type": "code",
   "execution_count": 2,
   "id": "reserved-leather",
   "metadata": {},
   "outputs": [
    {
     "data": {
      "text/plain": [
       "'He'"
      ]
     },
     "execution_count": 2,
     "metadata": {},
     "output_type": "execute_result"
    }
   ],
   "source": [
    "# The Rest?\n",
    "string = \"Hello World!\"\n",
    "string[:2]"
   ]
  },
  {
   "cell_type": "code",
   "execution_count": 13,
   "id": "reliable-framing",
   "metadata": {},
   "outputs": [
    {
     "data": {
      "text/plain": [
       "['Hello', 'World!']"
      ]
     },
     "execution_count": 13,
     "metadata": {},
     "output_type": "execute_result"
    }
   ],
   "source": [
    "# The .split() Function\n",
    "string = \"Hello World!\"\n",
    "string.split()"
   ]
  },
  {
   "cell_type": "code",
   "execution_count": 14,
   "id": "turned-fight",
   "metadata": {},
   "outputs": [
    {
     "data": {
      "text/plain": [
       "'World!'"
      ]
     },
     "execution_count": 14,
     "metadata": {},
     "output_type": "execute_result"
    }
   ],
   "source": [
    "# Words from .split()\n",
    "string = \"Hello World!\"\n",
    "split_string = string.split()\n",
    "split_string[1]"
   ]
  },
  {
   "cell_type": "code",
   "execution_count": 15,
   "id": "modified-warehouse",
   "metadata": {},
   "outputs": [
    {
     "data": {
      "text/plain": [
       "'This is a text file!\\nSecond Line\\nThird Line\\nFourth Line'"
      ]
     },
     "execution_count": 15,
     "metadata": {},
     "output_type": "execute_result"
    }
   ],
   "source": [
    "# Read File\n",
    "open(\"read.txt\", \"r\").read()"
   ]
  },
  {
   "cell_type": "code",
   "execution_count": 16,
   "id": "surrounded-remark",
   "metadata": {},
   "outputs": [
    {
     "data": {
      "text/plain": [
       "'This is a text file!\\nSecond Line\\nThird Line\\nFourth Line'"
      ]
     },
     "execution_count": 16,
     "metadata": {},
     "output_type": "execute_result"
    }
   ],
   "source": [
    "# Read file via variable\n",
    "file = open(\"read.txt\", \"r\")\n",
    "file.read()"
   ]
  },
  {
   "cell_type": "code",
   "execution_count": 17,
   "id": "blessed-sponsorship",
   "metadata": {},
   "outputs": [
    {
     "data": {
      "text/plain": [
       "32"
      ]
     },
     "execution_count": 17,
     "metadata": {},
     "output_type": "execute_result"
    }
   ],
   "source": [
    "# Write to File\n",
    "file = open(\"read.txt\", \"a\")\n",
    "file.write(\" Now the document has more text!\")"
   ]
  },
  {
   "cell_type": "code",
   "execution_count": 18,
   "id": "aggressive-minutes",
   "metadata": {},
   "outputs": [
    {
     "data": {
      "text/plain": [
       "'This is a text file!\\nSecond Line\\nThird Line\\nFourth Line Now the document has more text!'"
      ]
     },
     "execution_count": 18,
     "metadata": {},
     "output_type": "execute_result"
    }
   ],
   "source": [
    "# Check Changes\n",
    "file = open(\"read.txt\", \"r\")\n",
    "file.read()"
   ]
  },
  {
   "cell_type": "code",
   "execution_count": 19,
   "id": "fourth-thumb",
   "metadata": {},
   "outputs": [
    {
     "data": {
      "text/plain": [
       "29"
      ]
     },
     "execution_count": 19,
     "metadata": {},
     "output_type": "execute_result"
    }
   ],
   "source": [
    "# Overwrite Contents of File\n",
    "file = open(\"read.txt\", \"w\")\n",
    "file.write(\"Now the contents have deleted\")"
   ]
  },
  {
   "cell_type": "code",
   "execution_count": 20,
   "id": "timely-independence",
   "metadata": {},
   "outputs": [
    {
     "data": {
      "text/plain": [
       "'Now the contents have deleted'"
      ]
     },
     "execution_count": 20,
     "metadata": {},
     "output_type": "execute_result"
    }
   ],
   "source": [
    "# Check Changes\n",
    "file = open(\"read.txt\", \"r\")\n",
    "file.read()"
   ]
  },
  {
   "cell_type": "code",
   "execution_count": 28,
   "id": "light-department",
   "metadata": {},
   "outputs": [
    {
     "data": {
      "text/plain": [
       "'Now the '"
      ]
     },
     "execution_count": 28,
     "metadata": {},
     "output_type": "execute_result"
    }
   ],
   "source": [
    "# Read Specific Characters\n",
    "file = open(\"read.txt\", \"r\")\n",
    "file.read(8)"
   ]
  },
  {
   "cell_type": "code",
   "execution_count": 35,
   "id": "abandoned-bracket",
   "metadata": {},
   "outputs": [
    {
     "name": "stdout",
     "output_type": "stream",
     "text": [
      "Second Line\n",
      "\n"
     ]
    }
   ],
   "source": [
    "# Read Specific Line\n",
    "with open('read.txt', \"r\") as file:\n",
    "    print(file.readlines()[1])"
   ]
  },
  {
   "cell_type": "code",
   "execution_count": 37,
   "id": "wicked-extent",
   "metadata": {},
   "outputs": [
    {
     "name": "stdout",
     "output_type": "stream",
     "text": [
      "File did not exist, so new file was created\n"
     ]
    }
   ],
   "source": [
    "# New File\n",
    "try:\n",
    "\topen(\"new_read.txt\", \"w\")\n",
    "\tprint(\"File did not exist, so new file was created\")\n",
    "except:\n",
    "\tprint(\"File existed, so new file was not created\")"
   ]
  },
  {
   "cell_type": "code",
   "execution_count": 38,
   "id": "reliable-article",
   "metadata": {},
   "outputs": [
    {
     "data": {
      "text/plain": [
       "22"
      ]
     },
     "execution_count": 38,
     "metadata": {},
     "output_type": "execute_result"
    }
   ],
   "source": [
    "# Add to the new file\n",
    "file = open(\"new_read.txt\", \"w\")\n",
    "file.write(\"New file, New contents\")"
   ]
  },
  {
   "cell_type": "code",
   "execution_count": 39,
   "id": "significant-italic",
   "metadata": {},
   "outputs": [
    {
     "data": {
      "text/plain": [
       "'New file, New contents'"
      ]
     },
     "execution_count": 39,
     "metadata": {},
     "output_type": "execute_result"
    }
   ],
   "source": [
    "# Read contents of new file\n",
    "file = open(\"new_read.txt\", \"r\")\n",
    "file.read()"
   ]
  },
  {
   "cell_type": "code",
   "execution_count": 40,
   "id": "parliamentary-yorkshire",
   "metadata": {},
   "outputs": [],
   "source": [
    "import os\n",
    "os.remove(\"new_read.txt\")"
   ]
  },
  {
   "cell_type": "code",
   "execution_count": 43,
   "id": "covered-flood",
   "metadata": {},
   "outputs": [
    {
     "name": "stdout",
     "output_type": "stream",
     "text": [
      "File was deleted\n"
     ]
    }
   ],
   "source": [
    "# Check to see if file was deleted\n",
    "\n",
    "try:\n",
    "    file = open(\"new_read.txt\", \"r\")\n",
    "    file.read()\n",
    "except:\n",
    "    print(\"File was deleted\")"
   ]
  },
  {
   "cell_type": "code",
   "execution_count": 4,
   "id": "exceptional-evening",
   "metadata": {},
   "outputs": [
    {
     "ename": "FileNotFoundError",
     "evalue": "[Errno 2] No such file or directory: 'new_read.txt'",
     "output_type": "error",
     "traceback": [
      "\u001b[0;31m---------------------------------------------------------------------------\u001b[0m",
      "\u001b[0;31mFileNotFoundError\u001b[0m                         Traceback (most recent call last)",
      "\u001b[0;32m<ipython-input-4-6ea364ac4c60>\u001b[0m in \u001b[0;36m<module>\u001b[0;34m\u001b[0m\n\u001b[1;32m      1\u001b[0m \u001b[0;31m# Why try and except are useful\u001b[0m\u001b[0;34m\u001b[0m\u001b[0;34m\u001b[0m\u001b[0;34m\u001b[0m\u001b[0m\n\u001b[0;32m----> 2\u001b[0;31m \u001b[0mfile\u001b[0m \u001b[0;34m=\u001b[0m \u001b[0mopen\u001b[0m\u001b[0;34m(\u001b[0m\u001b[0;34m\"new_read.txt\"\u001b[0m\u001b[0;34m,\u001b[0m \u001b[0;34m\"r\"\u001b[0m\u001b[0;34m)\u001b[0m\u001b[0;34m\u001b[0m\u001b[0;34m\u001b[0m\u001b[0m\n\u001b[0m\u001b[1;32m      3\u001b[0m \u001b[0mfile\u001b[0m\u001b[0;34m.\u001b[0m\u001b[0mread\u001b[0m\u001b[0;34m(\u001b[0m\u001b[0;34m)\u001b[0m\u001b[0;34m\u001b[0m\u001b[0;34m\u001b[0m\u001b[0m\n",
      "\u001b[0;31mFileNotFoundError\u001b[0m: [Errno 2] No such file or directory: 'new_read.txt'"
     ]
    }
   ],
   "source": [
    "# Why try and except are useful\n",
    "file = open(\"new_read.txt\", \"r\")\n",
    "file.read()"
   ]
  }
 ],
 "metadata": {
  "kernelspec": {
   "display_name": "Python 3",
   "language": "python",
   "name": "python3"
  },
  "language_info": {
   "codemirror_mode": {
    "name": "ipython",
    "version": 3
   },
   "file_extension": ".py",
   "mimetype": "text/x-python",
   "name": "python",
   "nbconvert_exporter": "python",
   "pygments_lexer": "ipython3",
   "version": "3.8.5"
  }
 },
 "nbformat": 4,
 "nbformat_minor": 5
}
